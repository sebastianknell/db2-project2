{
 "cells": [
  {
   "cell_type": "code",
   "execution_count": 1,
   "metadata": {},
   "outputs": [],
   "source": [
    "import pandas as pd\n",
    "import index as idx\n",
    "import queries\n",
    "from entities import New"
   ]
  },
  {
   "cell_type": "code",
   "execution_count": 2,
   "metadata": {},
   "outputs": [],
   "source": [
    "data = pd.read_csv(idx.DATA_FILE, encoding='UTF-8')\n",
    "termIndex = idx.readIndex(idx.TERM_INDEX_FILE)\n",
    "docNorms = idx.readDocNorms()\n"
   ]
  },
  {
   "cell_type": "code",
   "execution_count": 3,
   "metadata": {},
   "outputs": [],
   "source": [
    "def getNews(query):\n",
    "    docIDS = queries.processQuery(query, termIndex, docNorms)\n",
    "    news = []\n",
    "    for id in docIDS:\n",
    "        doc = data.iloc[id]\n",
    "        anew = New(id, doc['title'], doc['publication'],\n",
    "                   doc['year'], doc['content'])\n",
    "        news.append(vars(anew))\n",
    "    return news\n"
   ]
  },
  {
   "cell_type": "code",
   "execution_count": 4,
   "metadata": {},
   "outputs": [
    {
     "name": "stdout",
     "output_type": "stream",
     "text": [
      "[{'id': 19910, 'title': 'Trump: Cruz ’Has Hatred’ for New York, Would Never Give Them Anything if President - Breitbart', 'publisher': 'Breitbart', 'year': 2016.0, 'content': 'GOP presidential candidate Donald Trump called in as a guest on Fox News Channel’s “Justice” with Judge Jeanine Pirro Saturday, and the two discussed the upcoming New York state primary.  Pirro asked Trump what he thought Sen. Ted Cruz ( ) hoped to gain from stumping in the state of New York after he criticized Trump for having “New York values. ” Trump responded, “When you look at his face during the debate, he was talking of New York values as though he hates New Yorkers, which is his real feeling. And if he ever got in, he would give nothing to New York. He would never help New York. You always need help. I mean  —   places, states, cities, they need help. They need help from the federal government. They need all sorts of money for all sorts of projects. He will never give anything to New York. He has hatred for New York. And you could see it, the way he expressed, and it wasn’t even the fact that he talked about New York values, it was the way he said it. The tone and the expression, and I just don’t think that New Yorkers are going to fall for it. ” Follow Trent Baker on Twitter @MagnifiTrent'}, {'id': 40040, 'title': '100 years of New York City from above', 'publisher': 'CNN', 'year': 2014.0, 'content': 'A century of photos showing New York City from the skies.'}, {'id': 26187, 'title': 'New York Times: The NRA’s Complicity in Terrorism - Breitbart', 'publisher': 'Breitbart', 'year': 2016.0, 'content': 'From the New York Times Editorial Board: advertisement'}, {'id': 22170, 'title': 'Hillary Clinton Says She Was in New York City on 9/11 (She Wasn’t) - Breitbart', 'publisher': 'Breitbart', 'year': 2016.0, 'content': 'Campaigning in Florida on Tuesday, Democratic presidential nominee Hillary Clinton claimed that she was in New York City on   when terrorists flew planes into the World Trade Center. She made her claim while discussing terrorism and the threat posed by ISIS. [“I know what happened not far from here at Pulse night club in Orlando,” she said. “I was in New York City on   as one of the two senators. I will defeat ISIS. I will protect America. ”  Hillary says she was in New York City on   (She wasn’t) pic. twitter.   —   Charlie Spiering (@charliespiering) November 2, 2016,  But Clinton wasn’t in New York on   according to Politico. As a United States Senator she was in Washington D. C. at her home in Whitehaven when the first plane hit the World Trade Center. She spent most of the day reacting to the attacks in media interviews and joined her colleagues singing “God Bless America” on the Capitol Hill steps. Clinton flew to New York on September 12, after making a speech on the Senate Floor in the morning. She traveled with her fellow New York Senator Chuck Schumer and Democratic Congressman Charlie Rangel. Clinton toured the disaster site with New York mayor Rudy Giuliani before leaving the city that evening to travel back to Capitol Hill.'}, {'id': 42650, 'title': 'Manhunt for escaped New York prisoners', 'publisher': 'CNN', 'year': 2015.0, 'content': 'See photos from the manhunt for two convicted murderers who broke out of the Clinton Correctional Facility in Dannemora, New York.'}, {'id': 20999, 'title': 'Giuliani: Ted Cruz Owes New York an Apology - Breitbart', 'publisher': 'Breitbart', 'year': 2016.0, 'content': 'Rebecca Savransky writes in The Hill:  Rudy Giuliani on Friday said Ted Cruz should apologize to New York City for attacking its “values” in the presidential race. “After all we have been through as a city and as one undivided nation, to have a United States senator running for President paint New York as a city consumed with greed, sin and media obsession is shocking,” Giuiani, who has not made an endorsement in the 2016 race, wrote in the New York Daily News. “Sen. Ted Cruz should apologize to the people of New York for his remarks and to the people of the United States for his crass attempt to divide us. ” Giuliani, a former mayor of New York City who made an unsuccessful run for the White House in 2008, joins a growing list of figures pushing back against the Texas senator. You can read the rest of the story here.'}, {'id': 2558, 'title': 'New York Today: Primary Preview - The New York Times', 'publisher': 'New York Times', 'year': 2016.0, 'content': 'Updated, 10:04 a. m. Good morning on this phenomenal Monday. For the first time in decades, the New York presidential primaries will be consequential to both the Democratic and the Republican nominations. “If you have a legitimate chance of victory, this is really your    time,” David Birdsell, dean of the Baruch College School of Public Affairs, said of the candidates. So we’ve heard them debate our values, weigh into local politics and barnstorm our public spaces with booming speeches. It’s all to connect with New York’s diverse voters. “You’ve got liberal pockets, conservative pockets, upstate, downstate and the city,” Mr. Birdsell said. “That keeps the conversation alive  . ” It’s crunchtime. Our primaries come late in the voting calendar. And we’re a   state, with 95 Republican and 291 Democratic delegates up for grabs. Donald J. Trump, for one, is looking for a big win here to avoid a contested convention and push past a troubling few weeks for his campaign. Senator Ted Cruz of Texas and Gov. John R. Kasich of Ohio are also fighting, particularly to peel away as many delegates as possible from Mr. Trump. And a big win in New York could help Senator Bernie Sanders of Vermont fight for another day for the Democratic nomination against Hillary Clinton. Especially if you’re part of a crucial voting bloc, New York City could shape the outcome. The fun starts Tuesday. Here’s what else is happening: Today will be just about perfect, at least in our books  —   sunny, glowing skies with a high near 78. In: SPF, floral   and lunch outdoors. Out: Wool socks, dark colors and afternoon meetings. • The presidential race has taken on a distinctly New York character in the prelude to Tuesday’s primary. [New York Times] • The persistence of homeless people at New York City’s major transit hubs reflects an intractable problem. [New York Times] • The police are easing their handling of subway riders who beg for a MetroCard swipe. [New York Times] • Ecuadoreans in Queens react to the catastrophic earthquake that killed hundreds and injured thousands in their country. [New York Times] • New York City officers shot and killed a man in Queens. [New York Times] • Thousands of people rallied for Mr. Sanders in Prospect Park, Brooklyn, on Sunday. [DNA Info] • Scoreboard: Yankees buoy Mariners,  . Mets meet Indians,  . Islanders desert Panthers,   (in overtime). • For a global look at what’s happening, see Your Monday Briefing. • A group exhibition of   paintings and sculpture is at the Queens College Art Center in Flushing. 9 a. m. [Free] • Take a ukulele class, for beginners and experienced students, at the Jerome Park Library in the Bronx. 6 p. m. [Free] • Join the Warm Your Heart Project and knit or crochet scarves for the city’s homeless at the Mariners Harbor Library on Staten Island. 6:30 p. m. [Free] • The author Michael Cunningham speaks with Frank Delaney at the Irish Arts Center in Midtown Manhattan. 7:30 p. m. [$12] • Compete in a novice shuffleboard tournament at the Diamond in Greenpoint, Brooklyn. 7:30 p. m. [$3] • Candidate tracker: Mrs. Clinton will speak at the New York Hilton Midtown at 12 p. m. Mr. Sanders will hold a rally at Hunter’s Point South Park in Long Island City, Queens, at 5 p. m. and Mr. Trump is holding a rally in Buffalo. • For more events, see The New York Times’s Arts  Entertainment guide. • Subway  and PATH  • Railroads: L. I. R. R.   N. J. Transit, Amtrak • Roads: Check traffic map or radio report on the 1s or the 8s. •   parking: in effect until April 23. • Ferries: Staten Island Ferry, New York Waterway, East River Ferry • Airports: La Guardia, J. F. K. Newark Take a long stroll in Manhattan, and you may walk past a building that an American president once called home. During the city’s brief reign as the nation’s capital, George Washington and his family lived at 3 Cherry Street in Lower Manhattan. In Kips Bay, a townhouse at 123 Lexington Avenue was the home of Chester A. Arthur and where he took the oath of office in 1881. A few blocks south, a townhouse at 28 East 20th Street (now a replica) was the childhood home of Theodore Roosevelt, the only president born in New York City. And among the others, an apartment at 142 West 109th Street in Morningside Heights was where President Obama lived when he was a junior at Columbia University. It was even available for rent in 2010. At the time the landlord did not charge a presidential premium. New York Today is a weekday roundup that stays live from 6 a. m. till late morning. You can receive it via email. For updates throughout the day, like us on Facebook. What would you like to see here to start your day? Post a comment, email us at nytoday@nytimes. com, or reach us via Twitter using #NYToday.  Follow the New York Today columnists, Alexandra Levine and Jonathan Wolfe, on Twitter. You can find the latest New York Today at nytoday. com.'}, {'id': 21088, 'title': 'Watch: Trump Defends ’New York Values’ at NY GOP Event - Breitbart', 'publisher': 'Breitbart', 'year': 2016.0, 'content': ', Thursday at the GOP Gala in New York City, Republican presidential   offered a defense of “New York values,” something which his opponent Sen. Ted Cruz ( ) had suggested was a quality of which voters should be wary when considering Trump as their choice for the GOP presidential nomination.  Trump defined “New York values” by offering some of those values qualities. “You say, ‘What are New York values? Number one, honesty and straight talk,” Trump declared. “It’s a work ethic,   people. It’s about family. New York, believe it, is about family. So important. It’s the energy to get things done  —   big energy. If Jeb Bush came here, I’m telling you he would have much more energy than he has right now. I’m telling you. He should move to New York, right? We’re builders we make things happen. So important  —   we make things happen. And it’s courage and community service because there is tremendous community service. ” He went on to tout the city’s response to the Sept. 11, 2001 terrorist attacks on the city and called that “New York values” on display. “The firefighters and   and the police officers and the Port Authority workers who ran up those stairs are New York values  —   and those are New Yorker values,” he said. Follow Jeff Poor on Twitter @jeff_poor'}, {'id': 30022, 'title': 'Rudy Giuliani: ’I’m Gonna Vote for Trump’ - Breitbart', 'publisher': 'Breitbart', 'year': 2016.0, 'content': 'Former New York City Mayor Rudy Giuliani is voting for GOP frontrunner Donald Trump during the New York primary on April 19. [“I support Trump. I’m gonna vote for Trump,” Giuliani stated, The New York Post reported on Thursday.  Giuliani predicted Trump should get more than 50 percent of the vote in the New York GOP primary. “It’s a question of how much he gets over 50 percent. If he wins 70 to 80 delegates, Donald has a good shot of securing the 1, 237 delegates to secure the nomination before the convention,” Giuliani explained of the 95 New York delegates up for grabs. “It’s New York City. We’re family. I can make fun of New York. But you can’t!” Giuliani said of Sen. Ted Cruz’s New York values jab. “I know he was attacking liberal Democratic values   …     I know. I fought to change those policies in areas like welfare reform and policing, as did Mike Bloomberg.   …     There was a better way to say it. ”'}, {'id': 4801, 'title': 'Airbnb Ends Fight With New York City Over Fines - The New York Times', 'publisher': 'New York Times', 'year': 2016.0, 'content': 'Airbnb has capitulated to the demands of lawmakers over its operations in New York City, the company’s largest market in the United States, agreeing to drop a lawsuit in which it was pushing back against a newly passed state law that it said could have hurt its business. The   home rental service on Friday settled the lawsuit that it filed against New York City two months ago. The suit challenged a New York law that Gov. Andrew M. Cuomo signed in October. That law called for fines of as much as $7, 500 for illegally listing a property on a rental platform such as Airbnb. The company had said the large fines could have deterred hosts and impaired its revenue in New York City. Hosts in the city generated about $1 billion in revenue last year, and the company took a cut of that in fees. But Airbnb on Friday agreed that it would drop the suit as long as New York City enforces the new law only against hosts and does not fine Airbnb. The settlement takes effect on Monday. The agreement is a victory for opponents of Airbnb. The company and New York authorities have battled for years over the legality of offering   lodging through the service, and the relationship has long been inconsistent. Since 2010, it has been illegal in New York to rent out a whole apartment on Airbnb for fewer than 30 days. In October, Airbnb said it was willing to crack down on people in New York City who rent out multiple homes, bowing to pressure from politicians and tenants’ rights groups who said the company had made it harder to find affordable housing in the city. “This is an astounding   on the part of Airbnb, which clearly recognized that this was a foolhardy and frivolous lawsuit,” Assemblywoman Linda B. Rosenthal, who wrote the law that Airbnb opposed, said of the settlement on Friday. In a statement, Airbnb said the settlement was “a material step forward for our hosts. ” Airbnb has been fighting with local governments around the globe that are displeased with the effects of the online rental service. Cities such as Amsterdam, Miami Beach and New Orleans have been closely watching the New York case. “I expect the city will now get down to the important business of enforcing the law against the serial lawbreakers on the site” who turn affordable housing into illegal hotels, Ms. Rosenthal said in her statement. “This is a win for everyone. ”'}]\n"
     ]
    }
   ],
   "source": [
    "query = 'new york'\n",
    "news = getNews(query)\n",
    "print(news)"
   ]
  }
 ],
 "metadata": {
  "interpreter": {
   "hash": "7e85ec9bf098c5427e45e2f632dcd4eeff803b007e1abd287d600879388709c1"
  },
  "kernelspec": {
   "display_name": "Python 3.8.11 64-bit",
   "name": "python3"
  },
  "language_info": {
   "codemirror_mode": {
    "name": "ipython",
    "version": 3
   },
   "file_extension": ".py",
   "mimetype": "text/x-python",
   "name": "python",
   "nbconvert_exporter": "python",
   "pygments_lexer": "ipython3",
   "version": "3.8.11"
  },
  "orig_nbformat": 4
 },
 "nbformat": 4,
 "nbformat_minor": 2
}